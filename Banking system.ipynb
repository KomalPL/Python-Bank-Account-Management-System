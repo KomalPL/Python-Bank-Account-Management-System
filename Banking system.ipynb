{
 "cells": [
  {
   "cell_type": "code",
   "execution_count": 1,
   "id": "623d2623-538a-4902-862d-ea5a64deeea9",
   "metadata": {},
   "outputs": [
    {
     "name": "stdout",
     "output_type": "stream",
     "text": [
      "\n",
      "Bank Account Management System\n",
      "1. Open a new account\n",
      "2. View account details\n",
      "3. Perform transactions\n",
      "4. View transaction history\n",
      "5. View passbook\n",
      "6. Exit\n"
     ]
    },
    {
     "name": "stdin",
     "output_type": "stream",
     "text": [
      "Enter your choice:  1\n",
      "Enter account holder's name:  Komal Pare\n",
      "Enter account type (Savings/Current):  savings\n",
      "Enter initial deposit amount:  5000\n"
     ]
    },
    {
     "name": "stdout",
     "output_type": "stream",
     "text": [
      "Account created successfully! Account Number: 1992834934\n",
      "\n",
      "Bank Account Management System\n",
      "1. Open a new account\n",
      "2. View account details\n",
      "3. Perform transactions\n",
      "4. View transaction history\n",
      "5. View passbook\n",
      "6. Exit\n"
     ]
    },
    {
     "name": "stdin",
     "output_type": "stream",
     "text": [
      "Enter your choice:  1\n",
      "Enter account holder's name:  Swayam Patel\n",
      "Enter account type (Savings/Current):  current\n",
      "Enter initial deposit amount:  8000\n"
     ]
    },
    {
     "name": "stdout",
     "output_type": "stream",
     "text": [
      "Account created successfully! Account Number: 9461049256\n",
      "\n",
      "Bank Account Management System\n",
      "1. Open a new account\n",
      "2. View account details\n",
      "3. Perform transactions\n",
      "4. View transaction history\n",
      "5. View passbook\n",
      "6. Exit\n"
     ]
    },
    {
     "name": "stdin",
     "output_type": "stream",
     "text": [
      "Enter your choice:  2\n",
      "Enter account number:  1992834934\n"
     ]
    },
    {
     "name": "stdout",
     "output_type": "stream",
     "text": [
      "{'Account Holder': 'Komal Pare', 'Account Number': '1992834934', 'Account Type': 'savings', 'Balance': 5000.0}\n",
      "\n",
      "Bank Account Management System\n",
      "1. Open a new account\n",
      "2. View account details\n",
      "3. Perform transactions\n",
      "4. View transaction history\n",
      "5. View passbook\n",
      "6. Exit\n"
     ]
    },
    {
     "name": "stdin",
     "output_type": "stream",
     "text": [
      "Enter your choice:  3\n",
      "Enter account number:  1992834934\n"
     ]
    },
    {
     "name": "stdout",
     "output_type": "stream",
     "text": [
      "1. Deposit\n",
      "2. Withdraw\n",
      "3. Transfer\n"
     ]
    },
    {
     "name": "stdin",
     "output_type": "stream",
     "text": [
      "Enter your choice:  3\n",
      "Enter recipient account number:  9461049256\n",
      "Enter transfer amount:  500\n"
     ]
    },
    {
     "name": "stdout",
     "output_type": "stream",
     "text": [
      "Transfer successful!\n",
      "\n",
      "Bank Account Management System\n",
      "1. Open a new account\n",
      "2. View account details\n",
      "3. Perform transactions\n",
      "4. View transaction history\n",
      "5. View passbook\n",
      "6. Exit\n"
     ]
    },
    {
     "name": "stdin",
     "output_type": "stream",
     "text": [
      "Enter your choice:  4\n",
      "Enter account number:  1992834934\n"
     ]
    },
    {
     "name": "stdout",
     "output_type": "stream",
     "text": [
      "\n",
      "Transaction History:\n",
      "2025-03-20 12:51:50 - Withdrawal: ₹500.0\n",
      "2025-03-20 12:51:50 - Transfer: ₹500.0\n",
      "\n",
      "Bank Account Management System\n",
      "1. Open a new account\n",
      "2. View account details\n",
      "3. Perform transactions\n",
      "4. View transaction history\n",
      "5. View passbook\n",
      "6. Exit\n"
     ]
    },
    {
     "name": "stdin",
     "output_type": "stream",
     "text": [
      "Enter your choice:  5\n",
      "Enter account number:  9461049256\n"
     ]
    },
    {
     "name": "stdout",
     "output_type": "stream",
     "text": [
      "\n",
      "Passbook for Account: 9461049256\n",
      "{'Account Holder': 'Swayam Patel', 'Account Number': '9461049256', 'Account Type': 'current', 'Balance': 8500.0}\n",
      "Transaction History:\n",
      "2025-03-20 12:51:50 - Deposit: ₹500.0\n",
      "\n",
      "Bank Account Management System\n",
      "1. Open a new account\n",
      "2. View account details\n",
      "3. Perform transactions\n",
      "4. View transaction history\n",
      "5. View passbook\n",
      "6. Exit\n"
     ]
    },
    {
     "name": "stdin",
     "output_type": "stream",
     "text": [
      "Enter your choice:  7\n"
     ]
    },
    {
     "name": "stdout",
     "output_type": "stream",
     "text": [
      "Invalid choice! Please try again.\n",
      "\n",
      "Bank Account Management System\n",
      "1. Open a new account\n",
      "2. View account details\n",
      "3. Perform transactions\n",
      "4. View transaction history\n",
      "5. View passbook\n",
      "6. Exit\n"
     ]
    },
    {
     "name": "stdin",
     "output_type": "stream",
     "text": [
      "Enter your choice:  6\n"
     ]
    },
    {
     "name": "stdout",
     "output_type": "stream",
     "text": [
      "Exiting program...\n"
     ]
    }
   ],
   "source": [
    "import os\n",
    "import pickle\n",
    "import random\n",
    "from datetime import datetime\n",
    "\n",
    "# File paths\n",
    "ACCOUNTS_FILE = \"bank_accounts.pkl\"\n",
    "TRANSACTIONS_FILE = \"transactions.pkl\"\n",
    "\n",
    "# Account class\n",
    "class BankAccount:\n",
    "    def __init__(self, holder_name, account_type, initial_balance=0.0):\n",
    "        self.holder_name = holder_name\n",
    "        self.account_number = self.generate_account_number()  # Generate account number\n",
    "        self.account_type = account_type\n",
    "        self.balance = initial_balance\n",
    "        self.transactions = []  # Stores transaction history\n",
    "\n",
    "    @staticmethod\n",
    "    def generate_account_number():\n",
    "        \"\"\"\n",
    "        Generates a unique 10-digit account number using random.\n",
    "        \"\"\"\n",
    "        return str(random.randint(1000000000, 9999999999))\n",
    "\n",
    "    def deposit(self, amount):\n",
    "        \"\"\"\n",
    "        Deposits a valid amount into the account and records the transaction.\n",
    "        \"\"\"\n",
    "        if amount > 0:\n",
    "            self.balance += amount\n",
    "            self.transactions.append((datetime.now(), \"Deposit\", amount))\n",
    "            return True\n",
    "        return False\n",
    "\n",
    "    def withdraw(self, amount):\n",
    "        \"\"\"\n",
    "        Withdraws money if the amount is within the available balance.\n",
    "        \"\"\"\n",
    "        if 0 < amount <= self.balance:\n",
    "            self.balance -= amount\n",
    "            self.transactions.append((datetime.now(), \"Withdrawal\", amount))\n",
    "            return True\n",
    "        return False\n",
    "\n",
    "    def transfer(self, recipient, amount):\n",
    "        \"\"\"\n",
    "        Transfers money between two accounts if the sender has enough balance.\n",
    "        \"\"\"\n",
    "        if self.withdraw(amount):\n",
    "            recipient.deposit(amount)\n",
    "            self.transactions.append((datetime.now(), \"Transfer\", amount, recipient.account_number))\n",
    "            return True\n",
    "        return False\n",
    "\n",
    "    def get_account_details(self):\n",
    "        \"\"\"\n",
    "        Returns account details as a dictionary.\n",
    "        \"\"\"\n",
    "        return {\n",
    "            \"Account Holder\": self.holder_name,\n",
    "            \"Account Number\": self.account_number,\n",
    "            \"Account Type\": self.account_type,\n",
    "            \"Balance\": self.balance,\n",
    "        }\n",
    "\n",
    "    def get_transaction_history(self):\n",
    "        \"\"\"\n",
    "        Returns a formatted list of all transactions for the account.\n",
    "        \"\"\"\n",
    "        return [f\"{t[0].strftime('%Y-%m-%d %H:%M:%S')} - {t[1]}: ₹{t[2]}\" for t in self.transactions]\n",
    "\n",
    "    def get_transaction_summary(self):\n",
    "        \"\"\"\n",
    "        Uses NumPy to calculate total deposits, withdrawals, and average transaction amount.\n",
    "        \"\"\"\n",
    "        deposits = sum([t[2] for t in self.transactions if t[1] == \"Deposit\"])\n",
    "        withdrawals = sum([t[2] for t in self.transactions if t[1] == \"Withdrawal\"])\n",
    "        avg_transaction = sum([t[2] for t in self.transactions]) / len(self.transactions) if self.transactions else 0\n",
    "        return {\n",
    "            \"Total Deposits\": deposits,\n",
    "            \"Total Withdrawals\": withdrawals,\n",
    "            \"Average Transaction Amount\": avg_transaction\n",
    "        }\n",
    "\n",
    "# File Handling Functions\n",
    "def save_accounts(accounts):\n",
    "    \"\"\"\n",
    "    Saves all account data persistently using pickle.\n",
    "    \"\"\"\n",
    "    with open(ACCOUNTS_FILE, \"wb\") as f:\n",
    "        pickle.dump(accounts, f)\n",
    "\n",
    "def load_accounts():\n",
    "    \"\"\"\n",
    "    Loads saved account data, or returns an empty dictionary if no file exists.\n",
    "    \"\"\"\n",
    "    if os.path.exists(ACCOUNTS_FILE):\n",
    "        with open(ACCOUNTS_FILE, \"rb\") as f:\n",
    "            return pickle.load(f)\n",
    "    return {}\n",
    "\n",
    "# Main Menu\n",
    "def main():\n",
    "    accounts = load_accounts()\n",
    "\n",
    "    while True:\n",
    "        print(\"\\nBank Account Management System\")\n",
    "        print(\"1. Open a new account\")\n",
    "        print(\"2. View account details\")\n",
    "        print(\"3. Perform transactions\")\n",
    "        print(\"4. View transaction history\")\n",
    "        print(\"5. View passbook\")\n",
    "        print(\"6. Exit\")\n",
    "        \n",
    "        choice = input(\"Enter your choice: \")\n",
    "\n",
    "        if choice == \"1\":\n",
    "            name = input(\"Enter account holder's name: \")\n",
    "            acc_type = input(\"Enter account type (Savings/Current): \")\n",
    "            initial_balance = float(input(\"Enter initial deposit amount: \"))\n",
    "            new_account = BankAccount(name, acc_type, initial_balance)\n",
    "            accounts[new_account.account_number] = new_account\n",
    "            save_accounts(accounts)\n",
    "            print(f\"Account created successfully! Account Number: {new_account.account_number}\")\n",
    "\n",
    "        elif choice == \"2\":\n",
    "            acc_num = input(\"Enter account number: \")\n",
    "            if acc_num in accounts:\n",
    "                print(accounts[acc_num].get_account_details())\n",
    "            else:\n",
    "                print(\"Account not found!\")\n",
    "\n",
    "        elif choice == \"3\":\n",
    "            acc_num = input(\"Enter account number: \")\n",
    "            if acc_num in accounts:\n",
    "                print(\"1. Deposit\")\n",
    "                print(\"2. Withdraw\")\n",
    "                print(\"3. Transfer\")\n",
    "                transaction_choice = input(\"Enter your choice: \")\n",
    "\n",
    "                if transaction_choice == \"1\":\n",
    "                    amount = float(input(\"Enter deposit amount: \"))\n",
    "                    if accounts[acc_num].deposit(amount):\n",
    "                        save_accounts(accounts)\n",
    "                        print(\"Deposit successful!\")\n",
    "                    else:\n",
    "                        print(\"Invalid deposit amount!\")\n",
    "                \n",
    "                elif transaction_choice == \"2\":\n",
    "                    amount = float(input(\"Enter withdrawal amount: \"))\n",
    "                    if accounts[acc_num].withdraw(amount):\n",
    "                        save_accounts(accounts)\n",
    "                        print(\"Withdrawal successful!\")\n",
    "                    else:\n",
    "                        print(\"Invalid withdrawal amount!\")\n",
    "\n",
    "                elif transaction_choice == \"3\":\n",
    "                    receiver_acc = input(\"Enter recipient account number: \")\n",
    "                    if receiver_acc in accounts:\n",
    "                        amount = float(input(\"Enter transfer amount: \"))\n",
    "                        if accounts[acc_num].transfer(accounts[receiver_acc], amount):\n",
    "                            save_accounts(accounts)\n",
    "                            print(\"Transfer successful!\")\n",
    "                        else:\n",
    "                            print(\"Insufficient balance for transfer!\")\n",
    "                    else:\n",
    "                        print(\"Recipient account not found!\")\n",
    "            else:\n",
    "                print(\"Account not found!\")\n",
    "\n",
    "        elif choice == \"4\":\n",
    "            acc_num = input(\"Enter account number: \")\n",
    "            if acc_num in accounts:\n",
    "                print(\"\\nTransaction History:\")\n",
    "                for entry in accounts[acc_num].get_transaction_history():\n",
    "                    print(entry)\n",
    "            else:\n",
    "                print(\"Account not found!\")\n",
    "\n",
    "        elif choice == \"5\":\n",
    "            acc_num = input(\"Enter account number: \")\n",
    "            if acc_num in accounts:\n",
    "                print(\"\\nPassbook for Account:\", acc_num)\n",
    "                print(accounts[acc_num].get_account_details())\n",
    "                print(\"Transaction History:\")\n",
    "                for entry in accounts[acc_num].get_transaction_history():\n",
    "                    print(entry)\n",
    "            else:\n",
    "                print(\"Account not found!\")\n",
    "\n",
    "        elif choice == \"6\":\n",
    "            print(\"Exiting program...\")\n",
    "            save_accounts(accounts)\n",
    "            break\n",
    "\n",
    "        else:\n",
    "            print(\"Invalid choice! Please try again.\")\n",
    "\n",
    "if __name__ == \"__main__\":\n",
    "    main()\n"
   ]
  },
  {
   "cell_type": "code",
   "execution_count": null,
   "id": "018c1da9-fbc1-4ecf-a7eb-1e13523ac2ec",
   "metadata": {},
   "outputs": [],
   "source": []
  }
 ],
 "metadata": {
  "kernelspec": {
   "display_name": "Python 3 (ipykernel)",
   "language": "python",
   "name": "python3"
  },
  "language_info": {
   "codemirror_mode": {
    "name": "ipython",
    "version": 3
   },
   "file_extension": ".py",
   "mimetype": "text/x-python",
   "name": "python",
   "nbconvert_exporter": "python",
   "pygments_lexer": "ipython3",
   "version": "3.13.2"
  }
 },
 "nbformat": 4,
 "nbformat_minor": 5
}
